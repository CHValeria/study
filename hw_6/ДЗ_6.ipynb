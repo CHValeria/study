{
  "nbformat": 4,
  "nbformat_minor": 0,
  "metadata": {
    "colab": {
      "provenance": []
    },
    "kernelspec": {
      "name": "python3",
      "display_name": "Python 3"
    },
    "language_info": {
      "name": "python"
    }
  },
  "cells": [
    {
      "cell_type": "markdown",
      "source": [
        "Для измерения качества выбрана метрика  f1-score. В данном задании нужно не только правильно предсказать выживших, но и минимизировать количество ложноположительных предсказаний, так как это может привести к неправильным выводам о выживших. А метод f1-score учитывает как точность (precision), так и полноту (recall), что делает данную метрику более сбалансированной."
      ],
      "metadata": {
        "id": "UIj2EkDgw2lv"
      }
    },
    {
      "cell_type": "code",
      "source": [
        "import pandas as pd\n",
        "from sklearn.model_selection import train_test_split\n",
        "from sklearn.linear_model import LogisticRegression\n",
        "from sklearn.metrics import f1_score, accuracy_score\n",
        "from sklearn.dummy import DummyClassifier\n",
        "from sklearn.preprocessing import StandardScaler\n",
        "\n",
        "data = pd.read_csv('train.csv')\n",
        "\n",
        "data['Sex'] = data['Sex'].map({'male': 0, 'female': 1})\n",
        "data['Embarked'] = data['Embarked'].map({'C': 0, 'Q': 1, 'S': 2})\n",
        "\n",
        "numeric_cols = data.select_dtypes(include=['float64', 'int64']).columns\n",
        "data[numeric_cols] = data[numeric_cols].fillna(data[numeric_cols].mean())\n",
        "\n",
        "features = ['Pclass', 'Sex', 'Age', 'SibSp', 'Parch', 'Fare', 'Embarked']\n",
        "X = data[features]\n",
        "y = data['Survived']\n",
        "\n",
        "X_train, X_test, y_train, y_test = train_test_split(X, y, test_size=0.2, random_state=42)\n",
        "\n",
        "dummy_clf = DummyClassifier(strategy='most_frequent', random_state=42)\n",
        "dummy_clf.fit(X_train, y_train)\n",
        "y_dummy_pred = dummy_clf.predict(X_test)\n",
        "dummy_accuracy = accuracy_score(y_test, y_dummy_pred)\n",
        "dummy_f1 = f1_score(y_test, y_dummy_pred)\n",
        "print(f\"Dummy Classifier Accuracy: {dummy_accuracy:.4f}, F1 Score: {dummy_f1:.4f}\")\n",
        "\n",
        "model = LogisticRegression(max_iter=200, random_state=42)\n",
        "scaler = StandardScaler()\n",
        "X_train_scaled = scaler.fit_transform(X_train)\n",
        "X_test_scaled = scaler.transform(X_test)\n",
        "model.fit(X_train_scaled, y_train)\n",
        "y_pred = model.predict(X_test_scaled)\n",
        "\n",
        "accuracy = accuracy_score(y_test, y_pred)\n",
        "f1 = f1_score(y_test, y_pred)\n",
        "print(f\"Logistic Regression Accuracy: {accuracy:.4f}, F1 Score: {f1:.4f}\")"
      ],
      "metadata": {
        "colab": {
          "base_uri": "https://localhost:8080/"
        },
        "id": "n6lUc29eytNx",
        "outputId": "ab8312bb-030b-4f24-fa60-28f8d5b5c90c"
      },
      "execution_count": 1,
      "outputs": [
        {
          "output_type": "stream",
          "name": "stdout",
          "text": [
            "Dummy Classifier Accuracy: 0.5866, F1 Score: 0.0000\n",
            "Logistic Regression Accuracy: 0.8101, F1 Score: 0.7639\n"
          ]
        }
      ]
    }
  ]
}